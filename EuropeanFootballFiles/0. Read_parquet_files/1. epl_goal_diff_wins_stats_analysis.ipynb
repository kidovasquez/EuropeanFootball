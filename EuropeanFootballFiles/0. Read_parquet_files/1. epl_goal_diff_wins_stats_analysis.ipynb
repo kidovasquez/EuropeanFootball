{
 "cells": [
  {
   "cell_type": "markdown",
   "metadata": {
    "application/vnd.databricks.v1+cell": {
     "cellMetadata": {
      "byteLimit": 2048000,
      "rowLimit": 10000
     },
     "inputWidgets": {},
     "nuid": "4f51673b-1620-4fc5-a269-941c3c2360f1",
     "showTitle": false,
     "tableResultSettingsMap": {},
     "title": ""
    }
   },
   "source": [
    "# Read parquet files for English Premier League"
   ]
  },
  {
   "cell_type": "code",
   "execution_count": 0,
   "metadata": {
    "application/vnd.databricks.v1+cell": {
     "cellMetadata": {
      "byteLimit": 2048000,
      "rowLimit": 10000
     },
     "inputWidgets": {},
     "nuid": "13d666f5-551b-4cd4-993d-ec0559f2ec7c",
     "showTitle": false,
     "tableResultSettingsMap": {},
     "title": ""
    }
   },
   "outputs": [],
   "source": [
    "epl_df = spark.read.parquet(\"abfss://silver@efsa.dfs.core.windows.net/League=English Premier League/*.parquet\")"
   ]
  },
  {
   "cell_type": "markdown",
   "metadata": {
    "application/vnd.databricks.v1+cell": {
     "cellMetadata": {
      "byteLimit": 2048000,
      "rowLimit": 10000
     },
     "inputWidgets": {},
     "nuid": "9fa40a10-d1e9-45b0-97fa-b26b0b3e88fd",
     "showTitle": false,
     "tableResultSettingsMap": {},
     "title": ""
    }
   },
   "source": [
    "# Import functions"
   ]
  },
  {
   "cell_type": "code",
   "execution_count": 0,
   "metadata": {
    "application/vnd.databricks.v1+cell": {
     "cellMetadata": {
      "byteLimit": 2048000,
      "rowLimit": 10000
     },
     "inputWidgets": {},
     "nuid": "d6c4e007-9870-474a-9381-f1573e494675",
     "showTitle": false,
     "tableResultSettingsMap": {},
     "title": ""
    }
   },
   "outputs": [],
   "source": [
    "from pyspark.sql.functions import current_date, date_format, col, concat, when, month, lit, year, to_date, count, sum"
   ]
  },
  {
   "cell_type": "markdown",
   "metadata": {
    "application/vnd.databricks.v1+cell": {
     "cellMetadata": {
      "byteLimit": 2048000,
      "rowLimit": 10000
     },
     "inputWidgets": {},
     "nuid": "431f9183-6705-422d-a65d-a5e955237394",
     "showTitle": false,
     "tableResultSettingsMap": {},
     "title": ""
    }
   },
   "source": [
    "#Drop Null Values"
   ]
  },
  {
   "cell_type": "code",
   "execution_count": 0,
   "metadata": {
    "application/vnd.databricks.v1+cell": {
     "cellMetadata": {
      "byteLimit": 2048000,
      "rowLimit": 10000
     },
     "inputWidgets": {},
     "nuid": "6f4715ce-7634-4559-91df-e13dbd25f71f",
     "showTitle": false,
     "tableResultSettingsMap": {},
     "title": ""
    }
   },
   "outputs": [],
   "source": [
    "epl_clean_df = epl_df.dropna(subset=['Date','HomeTeam','AwayTeam','HomeGoals','AwayGoals','Result'])"
   ]
  },
  {
   "cell_type": "markdown",
   "metadata": {
    "application/vnd.databricks.v1+cell": {
     "cellMetadata": {
      "byteLimit": 2048000,
      "rowLimit": 10000
     },
     "inputWidgets": {},
     "nuid": "46d2f4b3-7be8-47ca-954d-41b741d395a1",
     "showTitle": false,
     "tableResultSettingsMap": {},
     "title": ""
    }
   },
   "source": [
    "#Drop Duplicate Records"
   ]
  },
  {
   "cell_type": "code",
   "execution_count": 0,
   "metadata": {
    "application/vnd.databricks.v1+cell": {
     "cellMetadata": {
      "byteLimit": 2048000,
      "rowLimit": 10000
     },
     "inputWidgets": {},
     "nuid": "9ce5292f-5586-4506-89bd-874f2db7862c",
     "showTitle": false,
     "tableResultSettingsMap": {},
     "title": ""
    }
   },
   "outputs": [],
   "source": [
    "epl_clean_df = epl_clean_df.dropDuplicates(['Date','HomeTeam','AwayTeam','HomeGoals','AwayGoals','Result'])"
   ]
  },
  {
   "cell_type": "markdown",
   "metadata": {
    "application/vnd.databricks.v1+cell": {
     "cellMetadata": {
      "byteLimit": 2048000,
      "rowLimit": 10000
     },
     "inputWidgets": {},
     "nuid": "2cc198e7-c25b-4458-b214-6b5d8ab8f8ed",
     "showTitle": false,
     "tableResultSettingsMap": {},
     "title": ""
    }
   },
   "source": [
    "#Update season data"
   ]
  },
  {
   "cell_type": "code",
   "execution_count": 0,
   "metadata": {
    "application/vnd.databricks.v1+cell": {
     "cellMetadata": {
      "byteLimit": 2048000,
      "rowLimit": 10000
     },
     "inputWidgets": {},
     "nuid": "ec6631d1-200d-4c5f-9cc9-3fb1f2764f9e",
     "showTitle": false,
     "tableResultSettingsMap": {},
     "title": ""
    }
   },
   "outputs": [],
   "source": [
    "epl_season_df = epl_clean_df.withColumn(\n",
    "    \"season\",\n",
    "    concat(\n",
    "        when(month(\"date\") >= 8, year(\"date\"))\n",
    "        .otherwise(year(\"date\") - 1),\n",
    "        lit(\"/\"),\n",
    "        when(month(\"date\") >= 8, year(\"date\") + 1)\n",
    "        .otherwise(year(\"date\"))\n",
    "    )\n",
    ")"
   ]
  },
  {
   "cell_type": "markdown",
   "metadata": {
    "application/vnd.databricks.v1+cell": {
     "cellMetadata": {
      "byteLimit": 2048000,
      "rowLimit": 10000
     },
     "inputWidgets": {},
     "nuid": "88774a10-94de-4009-96e2-fdadfffdb330",
     "showTitle": false,
     "tableResultSettingsMap": {},
     "title": ""
    }
   },
   "source": [
    "#Get every goal scored by club in each season\n",
    "1. First Get Home Goals\n",
    "2. Get Away Goals\n",
    "3. Get Total Goals per season"
   ]
  },
  {
   "cell_type": "code",
   "execution_count": 0,
   "metadata": {
    "application/vnd.databricks.v1+cell": {
     "cellMetadata": {
      "byteLimit": 2048000,
      "rowLimit": 10000
     },
     "inputWidgets": {},
     "nuid": "8fd831d6-80f9-4c05-95d3-e3e6dc5f5be9",
     "showTitle": false,
     "tableResultSettingsMap": {},
     "title": ""
    }
   },
   "outputs": [],
   "source": [
    "epl_home_goals_df = epl_season_df.groupBy('season',\"HomeTeam\").agg(sum(\"HomeGoals\").alias(\"GoalsScored\")).withColumnRenamed(\"HomeTeam\",\"Team\")"
   ]
  },
  {
   "cell_type": "code",
   "execution_count": 0,
   "metadata": {
    "application/vnd.databricks.v1+cell": {
     "cellMetadata": {
      "byteLimit": 2048000,
      "rowLimit": 10000
     },
     "inputWidgets": {},
     "nuid": "fe7bd6ba-0742-40b6-a9a6-e2dc6939b557",
     "showTitle": false,
     "tableResultSettingsMap": {},
     "title": ""
    }
   },
   "outputs": [],
   "source": [
    "epl_away_goals_df = epl_season_df.groupBy('season',\"AwayTeam\").agg(sum(\"AwayGoals\").alias(\"GoalsScored\")).withColumnRenamed(\"AwayTeam\",\"Team\")"
   ]
  },
  {
   "cell_type": "code",
   "execution_count": 0,
   "metadata": {
    "application/vnd.databricks.v1+cell": {
     "cellMetadata": {
      "byteLimit": 2048000,
      "rowLimit": 10000
     },
     "inputWidgets": {},
     "nuid": "b1583087-c667-49a4-b13b-4f0ee29d35fc",
     "showTitle": false,
     "tableResultSettingsMap": {},
     "title": ""
    }
   },
   "outputs": [],
   "source": [
    "total_goals_scored_df = epl_home_goals_df.union(epl_away_goals_df).groupBy('season','Team').agg(sum(\"GoalsScored\").alias(\"TotalGoalsScored\"))"
   ]
  },
  {
   "cell_type": "markdown",
   "metadata": {
    "application/vnd.databricks.v1+cell": {
     "cellMetadata": {
      "byteLimit": 2048000,
      "rowLimit": 10000
     },
     "inputWidgets": {},
     "nuid": "90c46789-dc95-43e4-954c-4ff0eeeda16d",
     "showTitle": false,
     "tableResultSettingsMap": {},
     "title": ""
    }
   },
   "source": [
    "#Get Goals Against"
   ]
  },
  {
   "cell_type": "code",
   "execution_count": 0,
   "metadata": {
    "application/vnd.databricks.v1+cell": {
     "cellMetadata": {
      "byteLimit": 2048000,
      "rowLimit": 10000
     },
     "inputWidgets": {},
     "nuid": "5bfc74dc-334a-4f11-bd82-804801a5343f",
     "showTitle": false,
     "tableResultSettingsMap": {},
     "title": ""
    }
   },
   "outputs": [],
   "source": [
    "epl_goals_against_as_hometeam_df = epl_season_df.groupBy('season',\"HomeTeam\").agg(sum(\"AwayGoals\").alias(\"GoalsAgainst\"))\\\n",
    "                            .withColumnRenamed(\"HomeTeam\",\"Team\")"
   ]
  },
  {
   "cell_type": "code",
   "execution_count": 0,
   "metadata": {
    "application/vnd.databricks.v1+cell": {
     "cellMetadata": {
      "byteLimit": 2048000,
      "rowLimit": 10000
     },
     "inputWidgets": {},
     "nuid": "01057eba-c722-4c5f-b279-730c219a54d7",
     "showTitle": false,
     "tableResultSettingsMap": {},
     "title": ""
    }
   },
   "outputs": [],
   "source": [
    "epl_goals_against_as_awayteam_df = epl_season_df.groupBy('season',\"AwayTeam\").agg(sum(\"HomeGoals\").alias(\"GoalsAgainst\"))\\\n",
    "                      .withColumnRenamed(\"AwayTeam\",\"Team\")"
   ]
  },
  {
   "cell_type": "code",
   "execution_count": 0,
   "metadata": {
    "application/vnd.databricks.v1+cell": {
     "cellMetadata": {
      "byteLimit": 2048000,
      "rowLimit": 10000
     },
     "inputWidgets": {},
     "nuid": "31fae340-edf5-441c-914d-c902bf612787",
     "showTitle": false,
     "tableResultSettingsMap": {},
     "title": ""
    }
   },
   "outputs": [],
   "source": [
    "total_goals_against_df = epl_goals_against_as_hometeam_df.union(epl_goals_against_as_awayteam_df)\\\n",
    "                        .groupBy('season','Team').agg(sum(\"GoalsAgainst\").alias(\"TotalGoalsAgainst\"))"
   ]
  },
  {
   "cell_type": "markdown",
   "metadata": {
    "application/vnd.databricks.v1+cell": {
     "cellMetadata": {
      "byteLimit": 2048000,
      "rowLimit": 10000
     },
     "inputWidgets": {},
     "nuid": "930396aa-b6c3-4aff-8f20-128bc7dbc916",
     "showTitle": false,
     "tableResultSettingsMap": {},
     "title": ""
    }
   },
   "source": [
    "#Simple Task\n",
    "\n",
    "- Get the goal difference in a new column"
   ]
  },
  {
   "cell_type": "code",
   "execution_count": 0,
   "metadata": {
    "application/vnd.databricks.v1+cell": {
     "cellMetadata": {
      "byteLimit": 2048000,
      "rowLimit": 10000
     },
     "inputWidgets": {},
     "nuid": "758761cb-5c8e-459d-90db-560abf3c61fe",
     "showTitle": false,
     "tableResultSettingsMap": {},
     "title": ""
    }
   },
   "outputs": [],
   "source": [
    "epl_goal_difference = total_goals_scored_df.join(total_goals_against_df,['season','Team'],'inner')\\\n",
    "                              .withColumn('GoalDifference',col('TotalGoalsScored')-col('TotalGoalsAgainst'))"
   ]
  },
  {
   "cell_type": "markdown",
   "metadata": {
    "application/vnd.databricks.v1+cell": {
     "cellMetadata": {
      "byteLimit": 2048000,
      "rowLimit": 10000
     },
     "inputWidgets": {},
     "nuid": "211faadc-11a5-4ede-b593-6dba4760773b",
     "showTitle": false,
     "tableResultSettingsMap": {},
     "title": ""
    }
   },
   "source": [
    "#Next Task is to get total number of points as well as wins"
   ]
  },
  {
   "cell_type": "code",
   "execution_count": 0,
   "metadata": {
    "application/vnd.databricks.v1+cell": {
     "cellMetadata": {
      "byteLimit": 2048000,
      "rowLimit": 10000
     },
     "inputWidgets": {},
     "nuid": "169b9221-61d5-4f1b-aa0b-e9b12caf73cd",
     "showTitle": false,
     "tableResultSettingsMap": {},
     "title": ""
    }
   },
   "outputs": [],
   "source": [
    "epl_home_wins_loses = epl_season_df.withColumn('Wins',when(col('Result')=='H','1').otherwise('0'))\\\n",
    "  .withColumn('Loses',when(col('Result')=='A','1').otherwise('0'))\\\n",
    "    .withColumn('Draw',when(col('Result')=='D','1').otherwise('0'))\\\n",
    "      .groupBy('season','HomeTeam').agg(sum('Wins').alias('Wins'),sum('Loses').alias('Loses'),sum('Draw').alias('Draw')).withColumnRenamed('HomeTeam','Team')"
   ]
  },
  {
   "cell_type": "code",
   "execution_count": 0,
   "metadata": {
    "application/vnd.databricks.v1+cell": {
     "cellMetadata": {
      "byteLimit": 2048000,
      "rowLimit": 10000
     },
     "inputWidgets": {},
     "nuid": "669728b8-88df-4c9b-a28b-95e12fbdcd86",
     "showTitle": false,
     "tableResultSettingsMap": {},
     "title": ""
    }
   },
   "outputs": [],
   "source": [
    "epl_away_wins_loses = epl_season_df.withColumn('Wins',when(col('Result')=='A','1').otherwise('0'))\\\n",
    "                                .withColumn('Loses',when(col('Result')=='H','1').otherwise('0'))\\\n",
    "                                .withColumn('Draw',when(col('Result')=='D','1').otherwise('0'))\\\n",
    "                                .groupBy('season','AwayTeam').agg(sum('Wins').alias('Wins'),sum('Loses').alias('Loses'),sum('Draw').alias('Draw'))\\\n",
    "                                .withColumnRenamed('AwayTeam','Team')"
   ]
  },
  {
   "cell_type": "code",
   "execution_count": 0,
   "metadata": {
    "application/vnd.databricks.v1+cell": {
     "cellMetadata": {
      "byteLimit": 2048000,
      "rowLimit": 10000
     },
     "inputWidgets": {},
     "nuid": "884eefe5-d857-4be5-af9a-ec8af0f45239",
     "showTitle": false,
     "tableResultSettingsMap": {},
     "title": ""
    }
   },
   "outputs": [],
   "source": [
    "epl_total_wins_loses = epl_home_wins_loses.union(epl_away_wins_loses)\\\n",
    "                            .groupBy('season','Team').agg(sum('Wins').alias('Wins'),sum('Loses').alias('Loses'),sum('Draw').alias('Draw'))"
   ]
  },
  {
   "cell_type": "markdown",
   "metadata": {
    "application/vnd.databricks.v1+cell": {
     "cellMetadata": {
      "byteLimit": 2048000,
      "rowLimit": 10000
     },
     "inputWidgets": {},
     "nuid": "1aafbeec-5133-43f9-89a9-726dbc17c1ee",
     "showTitle": false,
     "tableResultSettingsMap": {},
     "title": ""
    }
   },
   "source": [
    "#Join goal difference table and total wins table"
   ]
  },
  {
   "cell_type": "code",
   "execution_count": 0,
   "metadata": {
    "application/vnd.databricks.v1+cell": {
     "cellMetadata": {
      "byteLimit": 2048000,
      "rowLimit": 10000
     },
     "inputWidgets": {},
     "nuid": "5b42cfd3-8897-46f2-9007-e68ea81c0fa8",
     "showTitle": false,
     "tableResultSettingsMap": {},
     "title": ""
    }
   },
   "outputs": [],
   "source": [
    "epl_table_df = epl_goal_difference.join(epl_total_wins_loses,['season','Team'],'inner')"
   ]
  },
  {
   "cell_type": "markdown",
   "metadata": {
    "application/vnd.databricks.v1+cell": {
     "cellMetadata": {
      "byteLimit": 2048000,
      "rowLimit": 10000
     },
     "inputWidgets": {},
     "nuid": "87770856-faf1-4063-8395-4f51e58dedff",
     "showTitle": false,
     "tableResultSettingsMap": {},
     "title": ""
    }
   },
   "source": [
    "# To Get Total Points in the season"
   ]
  },
  {
   "cell_type": "code",
   "execution_count": 0,
   "metadata": {
    "application/vnd.databricks.v1+cell": {
     "cellMetadata": {
      "byteLimit": 2048000,
      "rowLimit": 10000
     },
     "inputWidgets": {},
     "nuid": "eeb63e40-f7dd-4de4-be83-9ba7da4a0845",
     "showTitle": false,
     "tableResultSettingsMap": {},
     "title": ""
    }
   },
   "outputs": [],
   "source": [
    "epl_points_df = epl_table_df.withColumn('Points',(col('Wins')*3+col('Draw')))"
   ]
  },
  {
   "cell_type": "code",
   "execution_count": 0,
   "metadata": {
    "application/vnd.databricks.v1+cell": {
     "cellMetadata": {
      "byteLimit": 2048000,
      "rowLimit": 10000
     },
     "inputWidgets": {},
     "nuid": "67c34d07-0610-4ca6-9fa5-719d42b37781",
     "showTitle": false,
     "tableResultSettingsMap": {},
     "title": ""
    }
   },
   "outputs": [],
   "source": [
    "from pyspark.sql.window import Window\n",
    "from pyspark.sql.functions import dense_rank, row_number, lit\n",
    "\n",
    "w = Window.partitionBy('season').orderBy(col('Points').desc(),col('GoalDifference').desc())\n",
    "\n",
    "epl_table_df = epl_points_df.withColumn('Position',dense_rank().over(w)).withColumn('League',lit('epl'))"
   ]
  },
  {
   "cell_type": "code",
   "execution_count": 0,
   "metadata": {
    "application/vnd.databricks.v1+cell": {
     "cellMetadata": {
      "byteLimit": 2048000,
      "rowLimit": 10000
     },
     "inputWidgets": {},
     "nuid": "00632adf-d861-4bb7-9274-0d7c01bf4efb",
     "showTitle": false,
     "tableResultSettingsMap": {},
     "title": ""
    }
   },
   "outputs": [],
   "source": [
    "epl_table_df.write.format('delta').partitionBy('League','season').mode('overwrite').saveAsTable('football.europeanfootball.epl')"
   ]
  },
  {
   "cell_type": "code",
   "execution_count": 0,
   "metadata": {
    "application/vnd.databricks.v1+cell": {
     "cellMetadata": {
      "byteLimit": 2048000,
      "implicitDf": true,
      "rowLimit": 10000
     },
     "inputWidgets": {},
     "nuid": "6f9d47ce-1817-4db1-a17b-9725ced6b2c7",
     "showTitle": false,
     "tableResultSettingsMap": {},
     "title": ""
    }
   },
   "outputs": [],
   "source": [
    "%sql\n",
    "select * from football.europeanfootball.epl\n",
    "where season = '2018/2019'"
   ]
  }
 ],
 "metadata": {
  "application/vnd.databricks.v1+notebook": {
   "computePreferences": null,
   "dashboards": [],
   "environmentMetadata": {
    "base_environment": "",
    "environment_version": "2"
   },
   "language": "python",
   "notebookMetadata": {
    "mostRecentlyExecutedCommandWithImplicitDF": {
     "commandId": 1329254161597725,
     "dataframes": [
      "_sqldf"
     ]
    },
    "pythonIndentUnit": 4
   },
   "notebookName": "1. epl_goal_diff_wins_stats_analysis",
   "widgets": {}
  },
  "language_info": {
   "name": "python"
  }
 },
 "nbformat": 4,
 "nbformat_minor": 0
}
