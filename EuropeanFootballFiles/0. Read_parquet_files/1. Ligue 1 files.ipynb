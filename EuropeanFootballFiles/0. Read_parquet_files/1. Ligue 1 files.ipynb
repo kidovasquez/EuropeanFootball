{
 "cells": [
  {
   "cell_type": "markdown",
   "metadata": {
    "application/vnd.databricks.v1+cell": {
     "cellMetadata": {
      "byteLimit": 2048000,
      "rowLimit": 10000
     },
     "inputWidgets": {},
     "nuid": "4f51673b-1620-4fc5-a269-941c3c2360f1",
     "showTitle": false,
     "tableResultSettingsMap": {},
     "title": ""
    }
   },
   "source": [
    "# Read parquet files for Ligue 1"
   ]
  },
  {
   "cell_type": "markdown",
   "metadata": {
    "application/vnd.databricks.v1+cell": {
     "cellMetadata": {
      "byteLimit": 2048000,
      "rowLimit": 10000
     },
     "inputWidgets": {},
     "nuid": "fd188ae4-ed64-4bc7-920a-6f6d1220f906",
     "showTitle": false,
     "tableResultSettingsMap": {},
     "title": ""
    }
   },
   "source": [
    "####This file will be in SQL"
   ]
  },
  {
   "cell_type": "code",
   "execution_count": 0,
   "metadata": {
    "application/vnd.databricks.v1+cell": {
     "cellMetadata": {
      "byteLimit": 2048000,
      "rowLimit": 10000
     },
     "inputWidgets": {},
     "nuid": "93f0ae3f-83d0-4862-b1d2-2481b06ee7f1",
     "showTitle": false,
     "tableResultSettingsMap": {},
     "title": ""
    }
   },
   "outputs": [],
   "source": [
    "DROP TABLE IF EXISTS football.europeanfootball.ligue1;\n",
    "\n",
    "CREATE TABLE IF NOT EXISTS football.europeanfootball.ligue1\n",
    "using DELTA\n",
    "as select * from PARQUET.`abfss://silver@efsa.dfs.core.windows.net/League=Ligue 1/`;\n"
   ]
  },
  {
   "cell_type": "markdown",
   "metadata": {
    "application/vnd.databricks.v1+cell": {
     "cellMetadata": {
      "byteLimit": 2048000,
      "rowLimit": 10000
     },
     "inputWidgets": {},
     "nuid": "431f9183-6705-422d-a65d-a5e955237394",
     "showTitle": false,
     "tableResultSettingsMap": {},
     "title": ""
    }
   },
   "source": [
    "#Drop Null Values"
   ]
  },
  {
   "cell_type": "code",
   "execution_count": 0,
   "metadata": {
    "application/vnd.databricks.v1+cell": {
     "cellMetadata": {
      "byteLimit": 2048000,
      "rowLimit": 10000
     },
     "inputWidgets": {},
     "nuid": "6f4715ce-7634-4559-91df-e13dbd25f71f",
     "showTitle": false,
     "tableResultSettingsMap": {},
     "title": ""
    }
   },
   "outputs": [],
   "source": [
    "delete from football.europeanfootball.ligue1\n",
    "where date is null;"
   ]
  },
  {
   "cell_type": "markdown",
   "metadata": {
    "application/vnd.databricks.v1+cell": {
     "cellMetadata": {
      "byteLimit": 2048000,
      "rowLimit": 10000
     },
     "inputWidgets": {},
     "nuid": "46d2f4b3-7be8-47ca-954d-41b741d395a1",
     "showTitle": false,
     "tableResultSettingsMap": {},
     "title": ""
    }
   },
   "source": [
    "#Drop Duplicate Records"
   ]
  },
  {
   "cell_type": "code",
   "execution_count": 0,
   "metadata": {
    "application/vnd.databricks.v1+cell": {
     "cellMetadata": {
      "byteLimit": 2048000,
      "rowLimit": 10000
     },
     "inputWidgets": {},
     "nuid": "e167c70d-853a-4aad-89ae-d5f9583f41b9",
     "showTitle": false,
     "tableResultSettingsMap": {},
     "title": ""
    }
   },
   "outputs": [],
   "source": [
    "CREATE OR REPLACE TEMPORARY VIEW duplicates_to_remove AS\n",
    "SELECT Date, HomeTeam, AwayTeam, HomeGoals, AwayGoals, Result\n",
    "FROM (\n",
    "  SELECT *, \n",
    "         row_number() OVER (\n",
    "           PARTITION BY Date, HomeTeam, AwayTeam, HomeGoals, AwayGoals, Result \n",
    "           ORDER BY Date\n",
    "         ) as row_num\n",
    "  FROM football.europeanfootball.ligue1\n",
    ") \n",
    "WHERE row_num > 1"
   ]
  },
  {
   "cell_type": "code",
   "execution_count": 0,
   "metadata": {
    "application/vnd.databricks.v1+cell": {
     "cellMetadata": {
      "byteLimit": 2048000,
      "rowLimit": 10000
     },
     "inputWidgets": {},
     "nuid": "b5f05e5e-687f-4ce8-8eec-b8438675d15b",
     "showTitle": false,
     "tableResultSettingsMap": {},
     "title": ""
    }
   },
   "outputs": [],
   "source": [
    "CREATE OR REPLACE TABLE football.europeanfootball.football_matches_deduplicated\n",
    "USING DELTA\n",
    "AS SELECT DISTINCT Date, HomeTeam, AwayTeam, HomeGoals, AwayGoals, Result\n",
    "FROM football.europeanfootball.ligue1;\n",
    "\n",
    "-- Step 2: Count records to verify\n",
    "SELECT COUNT(*) AS original_count \n",
    "FROM football.europeanfootball.ligue1;\n",
    "\n",
    "SELECT COUNT(*) AS deduplicated_count \n",
    "FROM football.europeanfootball.football_matches_deduplicated;\n",
    "\n",
    "-- Step 3: If the counts are what you expect, replace the original table\n",
    "DROP TABLE football.europeanfootball.ligue1;\n",
    "ALTER TABLE football.europeanfootball.football_matches_deduplicated\n",
    "RENAME TO football.europeanfootball.ligue1;"
   ]
  },
  {
   "cell_type": "markdown",
   "metadata": {
    "application/vnd.databricks.v1+cell": {
     "cellMetadata": {
      "byteLimit": 2048000,
      "rowLimit": 10000
     },
     "inputWidgets": {},
     "nuid": "2cc198e7-c25b-4458-b214-6b5d8ab8f8ed",
     "showTitle": false,
     "tableResultSettingsMap": {},
     "title": ""
    }
   },
   "source": [
    "#Update season data"
   ]
  },
  {
   "cell_type": "code",
   "execution_count": 0,
   "metadata": {
    "application/vnd.databricks.v1+cell": {
     "cellMetadata": {
      "byteLimit": 2048000,
      "rowLimit": 10000
     },
     "inputWidgets": {},
     "nuid": "4f414836-ada6-4e04-b889-e059fff57eed",
     "showTitle": false,
     "tableResultSettingsMap": {},
     "title": ""
    }
   },
   "outputs": [],
   "source": [
    "ALTER TABLE football.europeanfootball.ligue1\n",
    "ADD COLUMNS (season STRING);"
   ]
  },
  {
   "cell_type": "code",
   "execution_count": 0,
   "metadata": {
    "application/vnd.databricks.v1+cell": {
     "cellMetadata": {
      "byteLimit": 2048000,
      "rowLimit": 10000
     },
     "inputWidgets": {},
     "nuid": "536a2af6-cc56-4550-b81b-8a24c2d2b868",
     "showTitle": false,
     "tableResultSettingsMap": {},
     "title": ""
    }
   },
   "outputs": [],
   "source": [
    "UPDATE football.europeanfootball.ligue1\n",
    "SET season = \n",
    "    (CASE WHEN month(date) >= 8 THEN year(date) || '/' || (year(date) + 1)\n",
    "          ELSE (year(date) - 1) || '/' || year(date) END);"
   ]
  },
  {
   "cell_type": "markdown",
   "metadata": {
    "application/vnd.databricks.v1+cell": {
     "cellMetadata": {
      "byteLimit": 2048000,
      "rowLimit": 10000
     },
     "inputWidgets": {},
     "nuid": "88774a10-94de-4009-96e2-fdadfffdb330",
     "showTitle": false,
     "tableResultSettingsMap": {},
     "title": ""
    }
   },
   "source": [
    "#Get every goal scored by club in each season\n",
    "1. First Get Home Goals\n",
    "2. Get Away Goals\n",
    "3. Get Total Goals per season"
   ]
  },
  {
   "cell_type": "code",
   "execution_count": 0,
   "metadata": {
    "application/vnd.databricks.v1+cell": {
     "cellMetadata": {
      "byteLimit": 2048000,
      "rowLimit": 10000
     },
     "inputWidgets": {},
     "nuid": "79d861ed-dfb8-490a-9db0-3f37ad9ace73",
     "showTitle": false,
     "tableResultSettingsMap": {},
     "title": ""
    }
   },
   "outputs": [],
   "source": [
    "create temporary view totalhomegoals as (\n",
    "  with homegoals as (\n",
    "select season,hometeam as team,sum(homegoals) as goals from football.europeanfootball.ligue1\n",
    "group by season,team),\n",
    "awaygoals as (\n",
    "select season,awayteam as team,sum(awaygoals) as goals from football.europeanfootball.ligue1\n",
    "group by season,team)\n",
    "select h.season,h.team,sum(h.goals)+sum(a.goals) as TotalGoalsScored from homegoals h inner join awaygoals a on h.team = a.team and h.season = a.season\n",
    "group by h.season,h.team\n",
    ")"
   ]
  },
  {
   "cell_type": "markdown",
   "metadata": {
    "application/vnd.databricks.v1+cell": {
     "cellMetadata": {
      "byteLimit": 2048000,
      "rowLimit": 10000
     },
     "inputWidgets": {},
     "nuid": "90c46789-dc95-43e4-954c-4ff0eeeda16d",
     "showTitle": false,
     "tableResultSettingsMap": {},
     "title": ""
    }
   },
   "source": [
    "#Get Goals Against"
   ]
  },
  {
   "cell_type": "code",
   "execution_count": 0,
   "metadata": {
    "application/vnd.databricks.v1+cell": {
     "cellMetadata": {
      "byteLimit": 2048000,
      "rowLimit": 10000
     },
     "inputWidgets": {},
     "nuid": "fe7d7e70-662a-4a34-af37-5067130aaa2b",
     "showTitle": false,
     "tableResultSettingsMap": {},
     "title": ""
    }
   },
   "outputs": [],
   "source": [
    "create temporary view totalawaygoals as (\n",
    "  with homegoals as (\n",
    "select season,hometeam as team,sum(awaygoals) as goals from football.europeanfootball.ligue1\n",
    "group by season,team),\n",
    "awaygoals as (\n",
    "select season,awayteam as team,sum(homegoals) as goals from football.europeanfootball.ligue1\n",
    "group by season,team)\n",
    "select h.season,h.team,sum(h.goals)+sum(a.goals) as TotalGoalsAgainst from homegoals h inner join awaygoals a on h.team = a.team and h.season = a.season\n",
    "group by h.season,h.team\n",
    ")"
   ]
  },
  {
   "cell_type": "markdown",
   "metadata": {
    "application/vnd.databricks.v1+cell": {
     "cellMetadata": {
      "byteLimit": 2048000,
      "rowLimit": 10000
     },
     "inputWidgets": {},
     "nuid": "930396aa-b6c3-4aff-8f20-128bc7dbc916",
     "showTitle": false,
     "tableResultSettingsMap": {},
     "title": ""
    }
   },
   "source": [
    "#Simple Task\n",
    "\n",
    "- Get the goal difference in a new column"
   ]
  },
  {
   "cell_type": "code",
   "execution_count": 0,
   "metadata": {
    "application/vnd.databricks.v1+cell": {
     "cellMetadata": {
      "byteLimit": 2048000,
      "rowLimit": 10000
     },
     "inputWidgets": {},
     "nuid": "0a81c700-229b-4ecf-a5f6-9fc4c2f3da4f",
     "showTitle": false,
     "tableResultSettingsMap": {},
     "title": ""
    }
   },
   "outputs": [],
   "source": [
    "create temporary view combinedgoals as\n",
    "(select totalhomegoals.season,totalhomegoals.team, TotalGoalsScored, TotalGoalsAgainst from totalhomegoals inner join totalawaygoals on totalhomegoals.team = totalawaygoals.team and totalhomegoals.season = totalawaygoals.season)"
   ]
  },
  {
   "cell_type": "code",
   "execution_count": 0,
   "metadata": {
    "application/vnd.databricks.v1+cell": {
     "cellMetadata": {
      "byteLimit": 2048000,
      "rowLimit": 10000
     },
     "inputWidgets": {},
     "nuid": "3767e86c-8299-4d86-81ef-7ffdf366ad01",
     "showTitle": false,
     "tableResultSettingsMap": {},
     "title": ""
    }
   },
   "outputs": [],
   "source": [
    "create temporary view goaldifference as (\n",
    "  select *, TotalGoalsScored - TotalGoalsAgainst as GoalDifference from combinedgoals\n",
    ")"
   ]
  },
  {
   "cell_type": "markdown",
   "metadata": {
    "application/vnd.databricks.v1+cell": {
     "cellMetadata": {
      "byteLimit": 2048000,
      "rowLimit": 10000
     },
     "inputWidgets": {},
     "nuid": "211faadc-11a5-4ede-b593-6dba4760773b",
     "showTitle": false,
     "tableResultSettingsMap": {},
     "title": ""
    }
   },
   "source": [
    "#Next Task is to get total number of points as well as wins"
   ]
  },
  {
   "cell_type": "code",
   "execution_count": 0,
   "metadata": {
    "application/vnd.databricks.v1+cell": {
     "cellMetadata": {
      "byteLimit": 2048000,
      "rowLimit": 10000
     },
     "inputWidgets": {},
     "nuid": "96730fcf-1256-4681-ae9c-ebd64dc92682",
     "showTitle": false,
     "tableResultSettingsMap": {},
     "title": ""
    }
   },
   "outputs": [],
   "source": [
    "create temporary view homewins as (\n",
    "  select season, hometeam as team, \n",
    "  SUM(CASE WHEN result = 'H' THEN 1 ELSE 0 END) AS wins,\n",
    "  SUM(CASE WHEN result = 'D' THEN 1 ELSE 0 END) AS draw,\n",
    "  SUM(CASE WHEN result = 'A' THEN 1 ELSE 0 END) AS loses\n",
    "    from football.europeanfootball.ligue1\n",
    "    group by season,hometeam)"
   ]
  },
  {
   "cell_type": "code",
   "execution_count": 0,
   "metadata": {
    "application/vnd.databricks.v1+cell": {
     "cellMetadata": {
      "byteLimit": 2048000,
      "rowLimit": 10000
     },
     "inputWidgets": {},
     "nuid": "ecb35a37-dbcf-4b0c-9d01-768b04b7b9f0",
     "showTitle": false,
     "tableResultSettingsMap": {},
     "title": ""
    }
   },
   "outputs": [],
   "source": [
    "create temporary view awaywins as (\n",
    "  select season, awayteam as team,\n",
    "  SUM(CASE WHEN result = 'A' THEN 1 ELSE 0 END) AS wins,\n",
    "  SUM(CASE WHEN result = 'D' THEN 1 ELSE 0 END) AS draw,\n",
    "  SUM(CASE WHEN result = 'H' THEN 1 ELSE 0 END) AS loses\n",
    "  from football.europeanfootball.ligue1\n",
    "  group by season,awayteam)"
   ]
  },
  {
   "cell_type": "code",
   "execution_count": 0,
   "metadata": {
    "application/vnd.databricks.v1+cell": {
     "cellMetadata": {
      "byteLimit": 2048000,
      "rowLimit": 10000
     },
     "inputWidgets": {},
     "nuid": "3d982fff-aee3-4241-97bd-0b0df4b36359",
     "showTitle": false,
     "tableResultSettingsMap": {},
     "title": ""
    }
   },
   "outputs": [],
   "source": [
    "create temporary view points as (\n",
    "  with combinedviews as (\n",
    "      select * from homewins\n",
    "      union all\n",
    "      select * from awaywins\n",
    "  )\n",
    "  select season,team,sum(wins) as wins, sum(draw) as draw, sum(loses) as loses from combinedviews\n",
    "  group by season,team\n",
    ")"
   ]
  },
  {
   "cell_type": "markdown",
   "metadata": {
    "application/vnd.databricks.v1+cell": {
     "cellMetadata": {
      "byteLimit": 2048000,
      "rowLimit": 10000
     },
     "inputWidgets": {},
     "nuid": "1aafbeec-5133-43f9-89a9-726dbc17c1ee",
     "showTitle": false,
     "tableResultSettingsMap": {},
     "title": ""
    }
   },
   "source": [
    "#Join goal difference table and total wins table"
   ]
  },
  {
   "cell_type": "code",
   "execution_count": 0,
   "metadata": {
    "application/vnd.databricks.v1+cell": {
     "cellMetadata": {
      "byteLimit": 2048000,
      "rowLimit": 10000
     },
     "inputWidgets": {},
     "nuid": "2a26027f-fd6b-4eaf-8060-cbb6839caf03",
     "showTitle": false,
     "tableResultSettingsMap": {},
     "title": ""
    }
   },
   "outputs": [],
   "source": [
    "create temporary view combinedview as (\n",
    "  select g.*, p.wins, p.draw, p.loses from goaldifference g inner join points p on g.team = p.team and g.season = p.season)"
   ]
  },
  {
   "cell_type": "code",
   "execution_count": 0,
   "metadata": {
    "application/vnd.databricks.v1+cell": {
     "cellMetadata": {
      "byteLimit": 2048000,
      "rowLimit": 10000
     },
     "inputWidgets": {},
     "nuid": "14aa9d90-1353-4a13-a788-335d5a1c5bf1",
     "showTitle": false,
     "tableResultSettingsMap": {},
     "title": ""
    }
   },
   "outputs": [],
   "source": [
    "select * from combinedview"
   ]
  },
  {
   "cell_type": "markdown",
   "metadata": {
    "application/vnd.databricks.v1+cell": {
     "cellMetadata": {
      "byteLimit": 2048000,
      "rowLimit": 10000
     },
     "inputWidgets": {},
     "nuid": "87770856-faf1-4063-8395-4f51e58dedff",
     "showTitle": false,
     "tableResultSettingsMap": {},
     "title": ""
    }
   },
   "source": [
    "# To Get Total Points in the season"
   ]
  },
  {
   "cell_type": "code",
   "execution_count": 0,
   "metadata": {
    "application/vnd.databricks.v1+cell": {
     "cellMetadata": {
      "byteLimit": 2048000,
      "rowLimit": 10000
     },
     "inputWidgets": {},
     "nuid": "2e967b76-f791-40b3-a5f3-6662a9721185",
     "showTitle": false,
     "tableResultSettingsMap": {},
     "title": ""
    }
   },
   "outputs": [],
   "source": [
    "create temporary view total_points as (\n",
    "  select *, (wins*3) + draw as Points from combinedview\n",
    ")"
   ]
  },
  {
   "cell_type": "markdown",
   "metadata": {
    "application/vnd.databricks.v1+cell": {
     "cellMetadata": {
      "byteLimit": 2048000,
      "rowLimit": 10000
     },
     "inputWidgets": {},
     "nuid": "67155848-1d6c-4403-b302-23c40539318d",
     "showTitle": false,
     "tableResultSettingsMap": {},
     "title": ""
    }
   },
   "source": [
    "#Create Final Ligue 1 Table"
   ]
  },
  {
   "cell_type": "code",
   "execution_count": 0,
   "metadata": {
    "application/vnd.databricks.v1+cell": {
     "cellMetadata": {
      "byteLimit": 2048000,
      "rowLimit": 10000
     },
     "inputWidgets": {},
     "nuid": "e1e4b47b-21ff-4708-b92c-9d31b6c6a8c8",
     "showTitle": false,
     "tableResultSettingsMap": {},
     "title": ""
    }
   },
   "outputs": [],
   "source": [
    "create table if not exists football.europeanfootball.finalligue1table as (\n",
    "  select *,dense_rank() over (partition by season order by Points desc, GoalDifference desc) as Position from total_points)"
   ]
  },
  {
   "cell_type": "code",
   "execution_count": 0,
   "metadata": {
    "application/vnd.databricks.v1+cell": {
     "cellMetadata": {
      "byteLimit": 2048000,
      "rowLimit": 10000
     },
     "inputWidgets": {},
     "nuid": "0a124292-392b-4f20-80fd-651b9e26f5d4",
     "showTitle": false,
     "tableResultSettingsMap": {},
     "title": ""
    }
   },
   "outputs": [],
   "source": [
    "DROP TABLE football.europeanfootball.ligue1;\n",
    "ALTER TABLE football.europeanfootball.finalligue1table\n",
    "RENAME TO football.europeanfootball.ligue1;"
   ]
  },
  {
   "cell_type": "code",
   "execution_count": 0,
   "metadata": {
    "application/vnd.databricks.v1+cell": {
     "cellMetadata": {
      "byteLimit": 2048000,
      "rowLimit": 10000
     },
     "inputWidgets": {},
     "nuid": "9c17aa9c-22d0-4d18-9526-311d602c7ebf",
     "showTitle": false,
     "tableResultSettingsMap": {},
     "title": ""
    }
   },
   "outputs": [],
   "source": [
    "select * from football.europeanfootball.ligue1"
   ]
  }
 ],
 "metadata": {
  "application/vnd.databricks.v1+notebook": {
   "computePreferences": null,
   "dashboards": [],
   "environmentMetadata": {
    "base_environment": "",
    "environment_version": "2"
   },
   "language": "sql",
   "notebookMetadata": {
    "mostRecentlyExecutedCommandWithImplicitDF": {
     "commandId": 8141803775920703,
     "dataframes": [
      "_sqldf"
     ]
    },
    "pythonIndentUnit": 4
   },
   "notebookName": "1. Ligue 1 files",
   "widgets": {}
  },
  "language_info": {
   "name": "sql"
  }
 },
 "nbformat": 4,
 "nbformat_minor": 0
}
